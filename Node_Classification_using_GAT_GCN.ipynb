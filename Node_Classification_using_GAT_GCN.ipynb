{
  "nbformat": 4,
  "nbformat_minor": 0,
  "metadata": {
    "colab": {
      "provenance": [],
      "collapsed_sections": [],
      "include_colab_link": true
    },
    "kernelspec": {
      "name": "python3",
      "display_name": "Python 3"
    }
  },
  "cells": [
    {
      "cell_type": "markdown",
      "metadata": {
        "id": "view-in-github",
        "colab_type": "text"
      },
      "source": [
        "<a href=\"https://colab.research.google.com/github/akanksha0911/Graph-neural-networks-/blob/main/Node_Classification_using_GAT_GCN.ipynb\" target=\"_parent\"><img src=\"https://colab.research.google.com/assets/colab-badge.svg\" alt=\"Open In Colab\"/></a>"
      ]
    },
    {
      "cell_type": "markdown",
      "metadata": {
        "id": "i4WcGtt1SP88"
      },
      "source": [
        "## Installing PyTorch Geometric"
      ]
    },
    {
      "cell_type": "code",
      "metadata": {
        "id": "d3r2f7FITB71",
        "outputId": "8db8978d-b39e-48dc-b6e4-459d8e9c8a32",
        "colab": {
          "base_uri": "https://localhost:8080/"
        }
      },
      "source": [
        "# Install required packages.\n",
        "import os\n",
        "import torch\n",
        "os.environ['TORCH'] = torch.__version__\n",
        "print(torch.__version__)\n",
        "\n",
        "!pip install -q torch-scatter -f https://data.pyg.org/whl/torch-${TORCH}.html\n",
        "!pip install -q torch-sparse -f https://data.pyg.org/whl/torch-${TORCH}.html\n",
        "!pip install -q git+https://github.com/pyg-team/pytorch_geometric.git\n",
        "\n",
        "# Helper function for visualization.\n",
        "%matplotlib inline\n",
        "import matplotlib.pyplot as plt\n",
        "from sklearn.manifold import TSNE\n",
        "\n",
        "def visualize(h, color):\n",
        "    z = TSNE(n_components=2).fit_transform(h.detach().cpu().numpy())\n",
        "\n",
        "    plt.figure(figsize=(10,10))\n",
        "    plt.xticks([])\n",
        "    plt.yticks([])\n",
        "\n",
        "    plt.scatter(z[:, 0], z[:, 1], s=70, c=color, cmap=\"Set2\")\n",
        "    plt.show()"
      ],
      "execution_count": 21,
      "outputs": [
        {
          "output_type": "stream",
          "name": "stdout",
          "text": [
            "1.12.1+cu113\n"
          ]
        }
      ]
    },
    {
      "cell_type": "markdown",
      "metadata": {
        "id": "V_k5VYXQSUwp"
      },
      "source": [
        "## Knowledge Graphs and Node Classification"
      ]
    },
    {
      "cell_type": "markdown",
      "metadata": {
        "id": "jEdJScZr_a5H"
      },
      "source": [
        "There are two special properties we are dealing with in this example:\n",
        "1. We have one large graph and not many individual graphs (like molecules)\n",
        "2. We infere on unlabeled nodes in this large graph and hence perform node-level predictions --> We have to use different nodes of the graph depending on what we want to do"
      ]
    },
    {
      "cell_type": "markdown",
      "metadata": {
        "id": "T8oB-KlJSaat"
      },
      "source": [
        "## Dataset Introduction"
      ]
    },
    {
      "cell_type": "markdown",
      "metadata": {
        "id": "GnREblkZTe02"
      },
      "source": [
        "There exists different datasets in PyTorch Geometric that can be used to perform Node Classification on large Knowledge Graphs e.g. Karate Network or Cora. We will use Cora to showcase the use of binary masks for node-level predictions."
      ]
    },
    {
      "cell_type": "markdown",
      "metadata": {
        "id": "ITnwYh-a3Hyj"
      },
      "source": [
        "#### What is the Cora Dataset?\n",
        "The Cora dataset consists of 2708 scientific publications classified into one of seven classes. Each publication in the dataset is described by a 0/1-valued word vector indicating the absence/presence of the corresponding word from the dictionary. The dictionary consists of 1433 unique words.\n",
        "\n",
        "- Nodes = Publications (Papers, Books ...)\n",
        "- Edges = Citations\n",
        "- Node Features = word vectors\n",
        "- 7 Labels = Pubilcation type e.g. Neural_Networks, Rule_Learning, Reinforcement_Learning, \tProbabilistic_Methods...\n",
        "\n",
        "We normalize the features using torch geometric's transform functions."
      ]
    },
    {
      "cell_type": "code",
      "metadata": {
        "id": "s96RfvA1z5xQ"
      },
      "source": [
        "from torch_geometric.datasets import Planetoid\n",
        "from torch_geometric.transforms import NormalizeFeatures\n",
        "\n",
        "dataset = Planetoid(root='data/Planetoid', name='Cora', transform=NormalizeFeatures())"
      ],
      "execution_count": 22,
      "outputs": []
    },
    {
      "cell_type": "markdown",
      "metadata": {
        "id": "AvzKbxnI0vsN"
      },
      "source": [
        "PyTorch Geometric provides different functions to investigate the dataset (e.g. node degrees, self-loops ect.) - You can find more of them in the documentation or in [this notebook](https://colab.research.google.com/drive/14OvFnAXggxB8vM4e8vSURUp1TaKnovzX?usp=sharing#scrollTo=eqWR0j_kIx67)."
      ]
    },
    {
      "cell_type": "code",
      "metadata": {
        "id": "hxlhrODKz_W5",
        "outputId": "f4a7c1a8-136f-4d4f-e188-c874824ced3a",
        "colab": {
          "base_uri": "https://localhost:8080/"
        }
      },
      "source": [
        "# Get some basic info about the dataset\n",
        "print(f'Number of graphs: {len(dataset)}')\n",
        "print(f'Number of features: {dataset.num_features}')\n",
        "print(f'Number of classes: {dataset.num_classes}')\n",
        "print(50*'=')\n",
        "\n",
        "# There is only one graph in the dataset, use it as new data object\n",
        "data = dataset[0]  \n",
        "\n",
        "# Gather some statistics about the graph.\n",
        "print(data)\n",
        "print(f'Number of nodes: {data.num_nodes}')\n",
        "print(f'Number of edges: {data.num_edges}')\n",
        "print(f'Number of training nodes: {data.train_mask.sum()}')\n",
        "print(f'Training node label rate: {int(data.train_mask.sum()) / data.num_nodes:.2f}')\n",
        "print(f'Is undirected: {data.is_undirected()}')"
      ],
      "execution_count": 23,
      "outputs": [
        {
          "output_type": "stream",
          "name": "stdout",
          "text": [
            "Number of graphs: 1\n",
            "Number of features: 1433\n",
            "Number of classes: 7\n",
            "==================================================\n",
            "Data(x=[2708, 1433], edge_index=[2, 10556], y=[2708], train_mask=[2708], val_mask=[2708], test_mask=[2708])\n",
            "Number of nodes: 2708\n",
            "Number of edges: 10556\n",
            "Number of training nodes: 140\n",
            "Training node label rate: 0.05\n",
            "Is undirected: True\n"
          ]
        }
      ]
    },
    {
      "cell_type": "markdown",
      "metadata": {
        "id": "DHJgiYySxqwL"
      },
      "source": [
        "Observations:\n",
        "- We only have a relatively small set of training nodes (20 nodes per class)\n",
        "- There are binary test, train and validation masks of the size #nodes (they tell use which node can be used for which task)"
      ]
    },
    {
      "cell_type": "code",
      "metadata": {
        "id": "Mhuqocpv2bwd",
        "outputId": "4a432cd5-1fd4-43b5-ddff-0232a8487c9e",
        "colab": {
          "base_uri": "https://localhost:8080/"
        }
      },
      "source": [
        "print(data.x.shape) # [No. Nodes x Features]\n",
        "\n",
        "# Print some of the normalized word counts of the first datapoint\n",
        "data.x[0][:50]"
      ],
      "execution_count": 24,
      "outputs": [
        {
          "output_type": "stream",
          "name": "stdout",
          "text": [
            "torch.Size([2708, 1433])\n"
          ]
        },
        {
          "output_type": "execute_result",
          "data": {
            "text/plain": [
              "tensor([0.0000, 0.0000, 0.0000, 0.0000, 0.0000, 0.0000, 0.0000, 0.0000, 0.0000,\n",
              "        0.0000, 0.0000, 0.0000, 0.0000, 0.0000, 0.0000, 0.0000, 0.0000, 0.0000,\n",
              "        0.0000, 0.1111, 0.0000, 0.0000, 0.0000, 0.0000, 0.0000, 0.0000, 0.0000,\n",
              "        0.0000, 0.0000, 0.0000, 0.0000, 0.0000, 0.0000, 0.0000, 0.0000, 0.0000,\n",
              "        0.0000, 0.0000, 0.0000, 0.0000, 0.0000, 0.0000, 0.0000, 0.0000, 0.0000,\n",
              "        0.0000, 0.0000, 0.0000, 0.0000, 0.0000])"
            ]
          },
          "metadata": {},
          "execution_count": 24
        }
      ]
    },
    {
      "cell_type": "markdown",
      "metadata": {
        "id": "pmmVhxn_Any8"
      },
      "source": [
        "Why do we even use the graph structure - aren't the features enough?\n",
        "\n",
        "- Apparently, simple MLP models perform a lot worse than GNNs on this type of task, as the citation information is crucial for a correct classification"
      ]
    },
    {
      "cell_type": "markdown",
      "metadata": {
        "id": "b2MMb7HFycnG"
      },
      "source": [
        "How do the labels look like?\n",
        "- They are encoded as numeric value between 0-6"
      ]
    },
    {
      "cell_type": "code",
      "metadata": {
        "id": "0EsnHlkX7cZs",
        "outputId": "d01b0aef-f8b2-44fe-86ad-44f345fdc1f5",
        "colab": {
          "base_uri": "https://localhost:8080/"
        }
      },
      "source": [
        "data.y"
      ],
      "execution_count": 25,
      "outputs": [
        {
          "output_type": "execute_result",
          "data": {
            "text/plain": [
              "tensor([3, 4, 4,  ..., 3, 3, 3])"
            ]
          },
          "metadata": {},
          "execution_count": 25
        }
      ]
    },
    {
      "cell_type": "markdown",
      "metadata": {
        "id": "iPHFpD-ahP88"
      },
      "source": [
        "Example for the binary masks"
      ]
    },
    {
      "cell_type": "code",
      "metadata": {
        "id": "Xt7M5rt_hPfZ",
        "outputId": "021460ec-fe4e-4ffd-a9a4-29e14d6f3f88",
        "colab": {
          "base_uri": "https://localhost:8080/"
        }
      },
      "source": [
        "print(len(data.test_mask) == data.num_nodes)\n",
        "data.test_mask"
      ],
      "execution_count": 26,
      "outputs": [
        {
          "output_type": "stream",
          "name": "stdout",
          "text": [
            "True\n"
          ]
        },
        {
          "output_type": "execute_result",
          "data": {
            "text/plain": [
              "tensor([False, False, False,  ...,  True,  True,  True])"
            ]
          },
          "metadata": {},
          "execution_count": 26
        }
      ]
    },
    {
      "cell_type": "markdown",
      "metadata": {
        "id": "r6ydlu3-jjqV"
      },
      "source": [
        "Example for the edge connections"
      ]
    },
    {
      "cell_type": "code",
      "metadata": {
        "id": "SAqU7XerjnKx",
        "outputId": "2d00dae8-0e31-48df-e729-c8f37e43a35c",
        "colab": {
          "base_uri": "https://localhost:8080/"
        }
      },
      "source": [
        "data.edge_index.t()"
      ],
      "execution_count": 27,
      "outputs": [
        {
          "output_type": "execute_result",
          "data": {
            "text/plain": [
              "tensor([[   0,  633],\n",
              "        [   0, 1862],\n",
              "        [   0, 2582],\n",
              "        ...,\n",
              "        [2707,  598],\n",
              "        [2707, 1473],\n",
              "        [2707, 2706]])"
            ]
          },
          "metadata": {},
          "execution_count": 27
        }
      ]
    },
    {
      "cell_type": "markdown",
      "metadata": {
        "id": "jNsToorfSgS0"
      },
      "source": [
        "## Graph Neural Network for Node Classification"
      ]
    },
    {
      "cell_type": "code",
      "metadata": {
        "id": "lcffG3rQy79R",
        "outputId": "1d6869d8-e06a-419b-ef4b-529886b03816",
        "colab": {
          "base_uri": "https://localhost:8080/"
        }
      },
      "source": [
        "import torch\n",
        "from torch.nn import Linear\n",
        "import torch.nn.functional as F\n",
        "from torch_geometric.nn import GCNConv #GATConv\n",
        "\n",
        "class GCN(torch.nn.Module):\n",
        "    def __init__(self, hidden_channels):\n",
        "        super(GCN, self).__init__()\n",
        "        torch.manual_seed(42)\n",
        "\n",
        "        # Initialize the layers\n",
        "        self.conv1 = GCNConv(dataset.num_features, hidden_channels)\n",
        "        self.conv2 = GCNConv(hidden_channels, hidden_channels)\n",
        "        self.out = Linear(hidden_channels, dataset.num_classes)\n",
        "\n",
        "    def forward(self, x, edge_index):\n",
        "        # First Message Passing Layer (Transformation)\n",
        "        x = self.conv1(x, edge_index)\n",
        "        x = x.relu()\n",
        "        x = F.dropout(x, p=0.5, training=self.training)\n",
        "\n",
        "        # Second Message Passing Layer\n",
        "        x = self.conv2(x, edge_index)\n",
        "        x = x.relu()\n",
        "        x = F.dropout(x, p=0.5, training=self.training)\n",
        "\n",
        "        # Output layer \n",
        "        x = F.softmax(self.out(x), dim=1)\n",
        "        return x\n",
        "\n",
        "model = GCN(hidden_channels=16)\n",
        "print(model)"
      ],
      "execution_count": 28,
      "outputs": [
        {
          "output_type": "stream",
          "name": "stdout",
          "text": [
            "GCN(\n",
            "  (conv1): GCNConv(1433, 16)\n",
            "  (conv2): GCNConv(16, 16)\n",
            "  (out): Linear(in_features=16, out_features=7, bias=True)\n",
            ")\n"
          ]
        }
      ]
    },
    {
      "cell_type": "markdown",
      "metadata": {
        "id": "0e5Tl6J2j5S-"
      },
      "source": [
        "Observations:\n",
        "- Dropout is only applied in the training step, but not for predictions\n",
        "- We have 2 Message Passing Layers and one Linear output layer\n",
        "- We use the softmax function for the classification problem\n",
        "- The output of the model are 7 probabilities, one for each class"
      ]
    },
    {
      "cell_type": "markdown",
      "metadata": {
        "id": "i-FXQsBGSk0K"
      },
      "source": [
        "## Training and Evaluation"
      ]
    },
    {
      "cell_type": "code",
      "metadata": {
        "id": "CY77lILlzPXO",
        "outputId": "021688ab-c78d-4631-87e8-f4df2e2f2188",
        "colab": {
          "base_uri": "https://localhost:8080/"
        }
      },
      "source": [
        "# Initialize model\n",
        "model = GCN(hidden_channels=16)\n",
        "\n",
        "# Use GPU\n",
        "device = torch.device(\"cuda:0\" if torch.cuda.is_available() else \"cpu\")\n",
        "model = model.to(device)\n",
        "data = data.to(device)\n",
        "\n",
        "# Initialize Optimizer\n",
        "learning_rate = 0.01\n",
        "decay = 5e-4\n",
        "optimizer = torch.optim.Adam(model.parameters(), \n",
        "                             lr=learning_rate, \n",
        "                             weight_decay=decay)\n",
        "# Define loss function (CrossEntropyLoss for Classification Problems with \n",
        "# probability distributions)\n",
        "criterion = torch.nn.CrossEntropyLoss()\n",
        "\n",
        "def train():\n",
        "      model.train()\n",
        "      optimizer.zero_grad() \n",
        "      # Use all data as input, because all nodes have node features\n",
        "      out = model(data.x, data.edge_index)  \n",
        "      # Only use nodes with labels available for loss calculation --> mask\n",
        "      loss = criterion(out[data.train_mask], data.y[data.train_mask])  \n",
        "      loss.backward() \n",
        "      optimizer.step()\n",
        "      return loss\n",
        "\n",
        "def test():\n",
        "      model.eval()\n",
        "      out = model(data.x, data.edge_index)\n",
        "      # Use the class with highest probability.\n",
        "      pred = out.argmax(dim=1)  \n",
        "      # Check against ground-truth labels.\n",
        "      test_correct = pred[data.test_mask] == data.y[data.test_mask]  \n",
        "      # Derive ratio of correct predictions.\n",
        "      test_acc = int(test_correct.sum()) / int(data.test_mask.sum())  \n",
        "      return test_acc\n",
        "\n",
        "losses = []\n",
        "for epoch in range(0, 1001):\n",
        "    loss = train()\n",
        "    losses.append(loss)\n",
        "    if epoch % 100 == 0:\n",
        "      print(f'Epoch: {epoch:03d}, Loss: {loss:.4f}')"
      ],
      "execution_count": 29,
      "outputs": [
        {
          "output_type": "stream",
          "name": "stdout",
          "text": [
            "Epoch: 000, Loss: 1.9461\n",
            "Epoch: 100, Loss: 1.8616\n",
            "Epoch: 200, Loss: 1.7218\n",
            "Epoch: 300, Loss: 1.6939\n",
            "Epoch: 400, Loss: 1.6404\n",
            "Epoch: 500, Loss: 1.5421\n",
            "Epoch: 600, Loss: 1.4895\n",
            "Epoch: 700, Loss: 1.4569\n",
            "Epoch: 800, Loss: 1.3938\n",
            "Epoch: 900, Loss: 1.3725\n",
            "Epoch: 1000, Loss: 1.3390\n"
          ]
        }
      ]
    },
    {
      "cell_type": "markdown",
      "metadata": {
        "id": "5zsXPVNEly8I"
      },
      "source": [
        "Visualize the training loss"
      ]
    },
    {
      "cell_type": "code",
      "metadata": {
        "id": "oO3VDUwmlrmT",
        "outputId": "4a5a3fa8-41dc-48b9-db42-e37c0e9606c6",
        "colab": {
          "base_uri": "https://localhost:8080/",
          "height": 337
        }
      },
      "source": [
        "import seaborn as sns\n",
        "losses_float = [float(loss.cpu().detach().numpy()) for loss in losses] \n",
        "loss_indices = [i for i,l in enumerate(losses_float)] \n",
        "plt = sns.lineplot(loss_indices, losses_float)\n",
        "plt"
      ],
      "execution_count": 30,
      "outputs": [
        {
          "output_type": "stream",
          "name": "stderr",
          "text": [
            "/usr/local/lib/python3.7/dist-packages/seaborn/_decorators.py:43: FutureWarning: Pass the following variables as keyword args: x, y. From version 0.12, the only valid positional argument will be `data`, and passing other arguments without an explicit keyword will result in an error or misinterpretation.\n",
            "  FutureWarning\n"
          ]
        },
        {
          "output_type": "execute_result",
          "data": {
            "text/plain": [
              "<matplotlib.axes._subplots.AxesSubplot at 0x7fbb5a4d1290>"
            ]
          },
          "metadata": {},
          "execution_count": 30
        },
        {
          "output_type": "display_data",
          "data": {
            "text/plain": [
              "<Figure size 432x288 with 1 Axes>"
            ],
            "image/png": "[encoded data removed]"
          },
          "metadata": {
            "needs_background": "light"
          }
        }
      ]
    },
    {
      "cell_type": "markdown",
      "metadata": {
        "id": "n-c68XAAl5c-"
      },
      "source": [
        "Calculate test metric"
      ]
    },
    {
      "cell_type": "code",
      "metadata": {
        "id": "E9oH4zpQzS0S",
        "outputId": "0e411853-e6fc-4d85-9377-79da10465b03",
        "colab": {
          "base_uri": "https://localhost:8080/"
        }
      },
      "source": [
        "test_acc = test()\n",
        "print(f'Test Accuracy: {test_acc:.4f}')"
      ],
      "execution_count": 31,
      "outputs": [
        {
          "output_type": "stream",
          "name": "stdout",
          "text": [
            "Test Accuracy: 0.7230\n"
          ]
        }
      ]
    },
    {
      "cell_type": "code",
      "metadata": {
        "id": "4S3shZpQrYGm",
        "outputId": "09590c33-6f52-4497-9381-0ef2deee05b9",
        "colab": {
          "base_uri": "https://localhost:8080/",
          "height": 303
        }
      },
      "source": [
        "import seaborn as sns\n",
        "import numpy as np\n",
        "sample = 9\n",
        "sns.set_theme(style=\"whitegrid\")\n",
        "print(model(data.x, data.edge_index).shape)\n",
        "pred = model(data.x, data.edge_index)\n",
        "sns.barplot(x=np.array(range(7)), y=pred[sample].detach().cpu().numpy())"
      ],
      "execution_count": 32,
      "outputs": [
        {
          "output_type": "stream",
          "name": "stdout",
          "text": [
            "torch.Size([2708, 7])\n"
          ]
        },
        {
          "output_type": "execute_result",
          "data": {
            "text/plain": [
              "<matplotlib.axes._subplots.AxesSubplot at 0x7fbb5a3af610>"
            ]
          },
          "metadata": {},
          "execution_count": 32
        },
        {
          "output_type": "display_data",
          "data": {
            "text/plain": [
              "<Figure size 432x288 with 1 Axes>"
            ],
            "image/png": "[encoded data removed]"
          },
          "metadata": {}
        }
      ]
    }
  ]
}